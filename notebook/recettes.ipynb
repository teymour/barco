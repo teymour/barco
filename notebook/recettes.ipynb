{
 "cells": [
  {
   "cell_type": "code",
   "execution_count": null,
   "id": "4bfd5e91",
   "metadata": {},
   "outputs": [],
   "source": [
    "import pandas as pd\n",
    "import os\n",
    "from datetime import datetime\n",
    "import mydashtools as dt\n",
    "import plotly.express as px\n",
    "import re\n",
    "pd.options.plotting.backend = \"plotly\"\n",
    "if dt.is_notebook():\n",
    "    __file__ = \"notebook/\"\n",
    "\n",
    "zelty = pd.read_csv(os.path.dirname(os.path.realpath(__file__))+\"/../zelty/zelty.csv\", sep=\";\",decimal=',',low_memory=False, index_col=False)\n",
    "\n",
    "limit_year = None\n",
    "if os.getenv(\"LIMIT_YEAR\") is not None:\n",
    "    limit_year = os.getenv(\"LIMIT_YEAR\")\n",
    "if limit_year:\n",
    "    zelty = zelty[zelty['date'] <= limit_year+'-12-31']\n",
    "\n",
    "zelty['category'] = zelty['category'].fillna('Catégorie inconnue')\n",
    "zelty['date'] = pd.to_datetime(zelty['date'])\n",
    "zelty.rename(columns={'category': 'Type de produit', 'price': 'Prix'}, inplace=True)\n",
    "if dt.is_notebook():\n",
    "    print(zelty.head())"
   ]
  },
  {
   "cell_type": "code",
   "execution_count": null,
   "id": "3e170f37",
   "metadata": {},
   "outputs": [],
   "source": [
    "chiffredaffaire = zelty.groupby(['date', 'Type de produit'])[['Prix']].sum().unstack('Type de produit')"
   ]
  },
  {
   "cell_type": "code",
   "execution_count": null,
   "id": "389bcf3e",
   "metadata": {},
   "outputs": [],
   "source": [
    "chiffredaffaire_par_an = chiffredaffaire.resample('YS').sum().fillna(0)\n",
    "chiffredaffaire_par_an['Année'] = chiffredaffaire_par_an.index.year\n",
    "chiffredaffaire_par_an.reset_index(inplace=True)\n",
    "chiffredaffaire_par_an.set_index('Année', inplace=True)\n",
    "# = chiffredaffaire.columns.droplevel(0)\n",
    "chiffredaffaire_par_an.columns = chiffredaffaire_par_an.columns.droplevel(0)\n",
    "del chiffredaffaire_par_an['']\n",
    "\n",
    "fig = px.bar(chiffredaffaire_par_an)\n",
    "fig.update_layout(legend_title=\"Type de produit\",xaxis_title=None,yaxis_title=None,separators=\", \")\n",
    "fig.update_yaxes(tickformat=\",d\",ticksuffix=\" €\")\n",
    "dt.fig_save_or_show(fig, 'recettes_01_ca_par_categories_et_an', limit_year)"
   ]
  },
  {
   "cell_type": "code",
   "execution_count": null,
   "id": "c98c558c",
   "metadata": {},
   "outputs": [],
   "source": [
    "pid2produit = zelty.groupby(['pid'])['produit'].last().to_dict()"
   ]
  },
  {
   "cell_type": "code",
   "execution_count": null,
   "id": "a103e628",
   "metadata": {},
   "outputs": [],
   "source": [
    "chiffredaffaire_12_mois = zelty[zelty.date > str(max(zelty.date).year - 1)]\n",
    "chiffredaffaire_12_mois = chiffredaffaire_12_mois.groupby(['date', 'pid'])[['Prix']].sum().reset_index()\n",
    "chiffredaffaire_12_mois['produit'] = chiffredaffaire_12_mois['pid'].map(pid2produit)\n",
    "chiffredaffaire_12_mois['produit'] = chiffredaffaire_12_mois['produit'].apply(lambda x: re.sub(r'  *', ' ', x)[:25].title())\n",
    "chiffredaffaire_12_mois = chiffredaffaire_12_mois.reset_index()\n",
    "chiffredaffaire_12_mois = chiffredaffaire_12_mois.groupby(['date', 'produit'])[['Prix']].sum()\n",
    "chiffredaffaire_12_mois = chiffredaffaire_12_mois.unstack('produit')\n",
    "chiffredaffaire_12_mois = chiffredaffaire_12_mois.resample('MS').sum()\n",
    "chiffredaffaire_12_mois.columns = chiffredaffaire_12_mois.columns.droplevel(0)\n",
    "\n",
    "fig = px.bar(chiffredaffaire_12_mois.dropna())\n",
    "fig.update_layout(legend_title=\"Produit\",xaxis_title=None,yaxis_title=None,separators=', ')\n",
    "fig.update_yaxes(tickformat=\",d\",ticksuffix=\" €\")\n",
    "dt.fig_save_or_show(fig, 'recettes_02_ca_par_produits_12_mois', limit_year)"
   ]
  },
  {
   "cell_type": "code",
   "execution_count": null,
   "id": "9f6fb28a",
   "metadata": {},
   "outputs": [],
   "source": [
    "chiffredaffaire_total_by_year = chiffredaffaire.stack('Type de produit').reset_index().groupby('date')[['Prix']].sum().resample('Y').sum()\n",
    "chiffredaffaire_total_by_year.index = chiffredaffaire_total_by_year.index.year\n",
    "\n",
    "chiffredaffaire_a_date = chiffredaffaire.stack('Type de produit').reset_index().groupby('date')[['Prix']].sum()\n",
    "chiffredaffaire_a_date['a_date'] = chiffredaffaire_a_date.index.month*100+chiffredaffaire_a_date.index.day\n",
    "chiffredaffaire_a_date = chiffredaffaire_a_date[chiffredaffaire_a_date['a_date'] < max(zelty.date).month*100+max(zelty.date).day]\n",
    "del chiffredaffaire_a_date['a_date']\n",
    "chiffredaffaire_a_date = chiffredaffaire_a_date.resample('Y').sum()\n",
    "chiffredaffaire_a_date.index = chiffredaffaire_a_date.index.year\n",
    "chiffredaffaire_a_date\n",
    "libelle_a_date = \"à date du %02d/%02d\" % (max(zelty.date).day, max(zelty.date).month)\n",
    "chiffredaffaire_total_by_year[libelle_a_date] = chiffredaffaire_a_date['Prix']\n",
    "chiffredaffaire_total_by_year.fillna(0, inplace=True)\n",
    "chiffredaffaire_total_by_year['Toute l\\'année'] = chiffredaffaire_total_by_year['Prix']\n",
    "del chiffredaffaire_total_by_year['Prix']\n",
    "del chiffredaffaire_total_by_year['Toute l\\'année'][max(chiffredaffaire_total_by_year.index)]\n",
    "\n",
    "\n",
    "import plotly.graph_objects as go\n",
    "fig = go.Figure(data=[\n",
    "    go.Bar(name=libelle_a_date, x=chiffredaffaire_total_by_year.index, y=chiffredaffaire_total_by_year[libelle_a_date]),\n",
    "    go.Bar(name='Toute l\\'année', x=chiffredaffaire_total_by_year.index, y=chiffredaffaire_total_by_year['Toute l\\'année'])\n",
    "])\n",
    "fig.update_layout(xaxis_title=None,yaxis_title=None,separators=', ')\n",
    "fig.update_yaxes(tickformat=\",d\",ticksuffix=\" €\")\n",
    "dt.fig_save_or_show(fig, 'recettes_03_ca_total_par_an', limit_year)"
   ]
  },
  {
   "cell_type": "code",
   "execution_count": null,
   "id": "7dee837b",
   "metadata": {},
   "outputs": [],
   "source": [
    "limit_date = max(zelty.date).replace(year=max(zelty.date).year - 1)\n",
    "chiffredaffaire_year = chiffredaffaire[chiffredaffaire.index.to_period(\"M\") >= str(limit_date.year)+'-'+str(limit_date.month)]\n",
    "chiffredaffaire_year.columns = chiffredaffaire_year.columns.droplevel(0)\n",
    "chiffredaffaire_year = chiffredaffaire_year.groupby('date').sum()\n",
    "chiffredaffaire_year['total'] = pd.DataFrame(chiffredaffaire_year.stack('Type de produit'), columns=['total']).groupby('date').sum()"
   ]
  },
  {
   "cell_type": "code",
   "execution_count": null,
   "id": "66c2fc02",
   "metadata": {},
   "outputs": [],
   "source": [
    "events = pd.read_csv(os.path.dirname(os.path.realpath(__file__))+\"/../events/barco_events_all.csv\", sep=\";\",decimal=',',low_memory=False, index_col=False)\n",
    "events['date'] = pd.to_datetime(events['date'])\n",
    "events.set_index('date', inplace=True)\n",
    "events_by_day = events.resample('D')['titre'].apply(' / '.join).reset_index()\n",
    "events_by_day['date'] = events_by_day['date'].apply(lambda x: str(x)[0:10])\n",
    "events_by_day.set_index('date', inplace=True)\n",
    "d2e = events_by_day[events_by_day['titre'] != '']['titre'].to_dict()"
   ]
  },
  {
   "cell_type": "code",
   "execution_count": null,
   "id": "134c4b65",
   "metadata": {},
   "outputs": [],
   "source": [
    "chiffredaffaire_year['évènement'] = chiffredaffaire_year.index.strftime('%Y-%m-%d').map(d2e).fillna('')\n",
    "chiffredaffaire_year['jour'] = chiffredaffaire_year.index.strftime('%A')\n",
    "\n",
    "fig = px.bar(chiffredaffaire_year, y=['total'], hover_data=['évènement', 'jour'])\n",
    "fig.update_layout(xaxis_title=None,yaxis_title=None,separators=', ')\n",
    "fig.update_yaxes(tickformat=\",d\",ticksuffix=\" €\")\n",
    "dt.fig_save_or_show(fig, 'recettes_04_ca_quotidien_12_mois', limit_year)"
   ]
  },
  {
   "cell_type": "code",
   "execution_count": null,
   "id": "a342f927",
   "metadata": {},
   "outputs": [],
   "source": [
    "from datetime import datetime \n",
    "from dateutil.relativedelta import relativedelta \n",
    "\n",
    "chiffredaffaire_top_year = chiffredaffaire_year.sort_values(by='total', ascending=False)\n",
    "chiffredaffaire_top_year = chiffredaffaire_top_year[['total']].head(50)\n",
    "\n",
    "chiffredaffaire_top_year['mois_courant'] = chiffredaffaire_top_year.index >= max(chiffredaffaire_top_year.index) + relativedelta(months=-1)\n",
    "chiffredaffaire_top_year = chiffredaffaire_top_year.reset_index().set_index(['date', 'mois_courant'])\n",
    "chiffredaffaire_top_year = chiffredaffaire_top_year.unstack('mois_courant')\n",
    "chiffredaffaire_top_year.columns = chiffredaffaire_top_year.columns.droplevel(0)\n",
    "chiffredaffaire_top_year['total'] = chiffredaffaire_top_year[True].fillna(0) + chiffredaffaire_top_year[False].fillna(0)\n",
    "chiffredaffaire_top_year = chiffredaffaire_top_year.sort_values(by='total', ascending=False)\n",
    "chiffredaffaire_top_year['évènement'] = chiffredaffaire_top_year.index.strftime('%Y-%m-%d').map(d2e).fillna('<aucun>')\n",
    "chiffredaffaire_top_year['jour'] = chiffredaffaire_top_year.index.strftime('%A')\n",
    "chiffredaffaire_top_year.index = chiffredaffaire_top_year.index.strftime('%d/%m/%Y')\n",
    "del chiffredaffaire_top_year['total']\n",
    "\n",
    "fig = px.bar(chiffredaffaire_top_year, y=[False,True], hover_data=['évènement', 'jour'])\n",
    "fig.update_layout(showlegend=False,xaxis_title=None,yaxis_title=None,separators=', ')\n",
    "fig.update_yaxes(tickformat=\",d\",ticksuffix=\" €\")\n",
    "dt.fig_save_or_show(fig, 'recettes_05_ca_quotidien_top50_12_mois', limit_year)"
   ]
  },
  {
   "cell_type": "code",
   "execution_count": null,
   "id": "8c53ce99",
   "metadata": {},
   "outputs": [],
   "source": [
    "marges = {2017:0.46,\n",
    "          2018:0.4795,\n",
    "          2019:0.5012,\n",
    "          2020:0.3679,\n",
    "          2021:0.5078,\n",
    "          2022:0.3363,\n",
    "          2023:0.4922,\n",
    "          2024:0.4922\n",
    "         }\n"
   ]
  },
  {
   "cell_type": "code",
   "execution_count": null,
   "id": "cc246770",
   "metadata": {},
   "outputs": [],
   "source": [
    "charges = {2017:50353,\n",
    "           2018:50353,\n",
    "           2019:50786,\n",
    "           2020:45973-33171,\n",
    "           2021:30298-40000,\n",
    "           2022:45886,\n",
    "           2023:46195,\n",
    "           2024:46195\n",
    "          }\n"
   ]
  },
  {
   "cell_type": "code",
   "execution_count": null,
   "id": "5496afd9",
   "metadata": {},
   "outputs": [],
   "source": [
    "benefices = chiffredaffaire.stack('Type de produit')[['Prix']].groupby('date').sum().resample('MS').sum()\n",
    "benefices['Année'] = benefices.index.year\n",
    "benefices['marge'] = benefices['Année'].map(marges)\n",
    "benefices['charges_fixes'] = benefices['Année'].map(charges)/12\n",
    "benefices = benefices.groupby(['date','Année']).sum()\n",
    "benefices['taux_ht'] = 0.8333\n",
    "benefices['total'] = benefices['Prix'] * benefices['marge'] * benefices['taux_ht'] - benefices['charges_fixes']\n",
    "del benefices['Prix']\n",
    "del benefices['marge']\n",
    "del benefices['charges_fixes']\n",
    "del benefices['taux_ht']\n",
    "benefices = benefices.unstack('Année').fillna(0)\n",
    "benefices.columns = benefices.columns.droplevel(0)\n",
    "\n",
    "fig = px.bar(benefices)\n",
    "fig.update_layout(showlegend=False,xaxis_title=None,yaxis_title=None,separators=', ')\n",
    "fig.update_yaxes(tickformat=\",d\",ticksuffix=\" €\")\n",
    "dt.fig_save_or_show(fig, 'recettes_06_benefice', limit_year)"
   ]
  },
  {
   "cell_type": "code",
   "execution_count": null,
   "id": "d9599e02",
   "metadata": {},
   "outputs": [],
   "source": [
    "if dt.is_notebook():\n",
    "    print(benefices.sum())"
   ]
  },
  {
   "cell_type": "code",
   "execution_count": null,
   "id": "761a11fa",
   "metadata": {},
   "outputs": [],
   "source": []
  },
  {
   "cell_type": "code",
   "execution_count": null,
   "id": "5c82b88c",
   "metadata": {},
   "outputs": [],
   "source": []
  }
 ],
 "metadata": {
  "kernelspec": {
   "display_name": "Python 3 (ipykernel)",
   "language": "python",
   "name": "python3"
  },
  "language_info": {
   "codemirror_mode": {
    "name": "ipython",
    "version": 3
   },
   "file_extension": ".py",
   "mimetype": "text/x-python",
   "name": "python",
   "nbconvert_exporter": "python",
   "pygments_lexer": "ipython3",
   "version": "3.11.5"
  }
 },
 "nbformat": 4,
 "nbformat_minor": 5
}
