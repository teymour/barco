{
 "cells": [
  {
   "cell_type": "code",
   "execution_count": null,
   "id": "4bfd5e91",
   "metadata": {},
   "outputs": [],
   "source": [
    "import pandas as pd\n",
    "from datetime import datetime\n",
    "pd.options.plotting.backend = \"plotly\"\n",
    "\n",
    "zelty = pd.read_csv(\"../zelty/zelty.csv\", sep=\";\",decimal=',',low_memory=False, index_col=False)\n",
    "zelty['date'] = pd.to_datetime(zelty['date'])\n",
    "zelty.head()"
   ]
  },
  {
   "cell_type": "code",
   "execution_count": null,
   "id": "3e170f37",
   "metadata": {},
   "outputs": [],
   "source": [
    "chiffredaffaire = zelty.groupby(['date', 'category'])[['price']].sum().unstack('category')"
   ]
  },
  {
   "cell_type": "code",
   "execution_count": null,
   "id": "389bcf3e",
   "metadata": {},
   "outputs": [],
   "source": [
    "chiffredaffaire_par_an = chiffredaffaire.resample('YS').sum().fillna(0)\n",
    "chiffredaffaire_par_an['year'] = chiffredaffaire_par_an.index.year\n",
    "chiffredaffaire_par_an.reset_index(inplace=True)\n",
    "chiffredaffaire_par_an.set_index('year', inplace=True)\n",
    "# = chiffredaffaire.columns.droplevel(0)\n",
    "chiffredaffaire_par_an.columns = chiffredaffaire_par_an.columns.droplevel(0)\n",
    "del chiffredaffaire_par_an['']\n",
    "chiffredaffaire_par_an.plot(kind=\"bar\")"
   ]
  },
  {
   "cell_type": "code",
   "execution_count": null,
   "id": "a103e628",
   "metadata": {},
   "outputs": [],
   "source": [
    "chiffredaffaire_12_mois = chiffredaffaire.resample('MS').sum()\n",
    "chiffredaffaire_12_mois = chiffredaffaire_12_mois[chiffredaffaire_12_mois.index > str(datetime.now().replace(year=datetime.now().year - 1))]\n",
    "chiffredaffaire_12_mois.columns = chiffredaffaire_12_mois.columns.droplevel(0)\n",
    "chiffredaffaire_12_mois.plot(kind='bar')"
   ]
  },
  {
   "cell_type": "code",
   "execution_count": null,
   "id": "9f6fb28a",
   "metadata": {},
   "outputs": [],
   "source": [
    "chiffredaffaire_total_by_year = chiffredaffaire.stack('category').reset_index().groupby('date')[['price']].sum().resample('Y').sum()\n",
    "chiffredaffaire_total_by_year.index = chiffredaffaire_total_by_year.index.year\n",
    "\n",
    "chiffredaffaire_a_date = chiffredaffaire.stack('category').reset_index().groupby('date')[['price']].sum()\n",
    "chiffredaffaire_a_date['a_date'] = chiffredaffaire_a_date.index.month*100+chiffredaffaire_a_date.index.day\n",
    "chiffredaffaire_a_date = chiffredaffaire_a_date[chiffredaffaire_a_date['a_date'] < datetime.now().month*100+datetime.now().day]\n",
    "del chiffredaffaire_a_date['a_date']\n",
    "chiffredaffaire_a_date = chiffredaffaire_a_date.resample('Y').sum()\n",
    "chiffredaffaire_a_date.index = chiffredaffaire_a_date.index.year\n",
    "chiffredaffaire_a_date\n",
    "libelle_a_date = \"à date du %02d/%02d\" % (datetime.now().day, datetime.now().month)\n",
    "chiffredaffaire_total_by_year[libelle_a_date] = chiffredaffaire_a_date['price']\n",
    "chiffredaffaire_total_by_year.fillna(0, inplace=True)\n",
    "chiffredaffaire_total_by_year['toute l\\'année'] = chiffredaffaire_total_by_year['price'] - chiffredaffaire_total_by_year[libelle_a_date]\n",
    "del chiffredaffaire_total_by_year['price']\n",
    "chiffredaffaire_total_by_year.plot(kind=\"bar\")\n"
   ]
  },
  {
   "cell_type": "code",
   "execution_count": null,
   "id": "7dee837b",
   "metadata": {},
   "outputs": [],
   "source": [
    "limit_date = datetime.now().replace(year=datetime.now().year - 1)\n",
    "chiffredaffaire_top_year = chiffredaffaire[chiffredaffaire.index.to_period(\"M\") >= str(limit_date.year)+'-'+str(limit_date.month)]\n",
    "chiffredaffaire_top_year.columns = chiffredaffaire_top_year.columns.droplevel(0)\n",
    "chiffredaffaire_top_year = chiffredaffaire_top_year.groupby('date').sum()\n",
    "chiffredaffaire_top_year['total'] = pd.DataFrame(chiffredaffaire_top_year.stack('category'), columns=['total']).groupby('date').sum()\n",
    "chiffredaffaire_top_year = chiffredaffaire_top_year.sort_values(by='total', ascending=False)\n",
    "chiffredaffaire_top_year[['total']].head(20)\n"
   ]
  },
  {
   "cell_type": "code",
   "execution_count": null,
   "id": "a342f927",
   "metadata": {},
   "outputs": [],
   "source": [
    "del chiffredaffaire_top_year['total']\n",
    "chiffredaffaire_top_year.index = chiffredaffaire_top_year.index.strftime('%d/%m/%Y')\n",
    "chiffredaffaire_top_year.head(50).plot(kind='bar')"
   ]
  },
  {
   "cell_type": "code",
   "execution_count": null,
   "id": "b5898561",
   "metadata": {},
   "outputs": [],
   "source": [
    "benefices = chiffredaffaire.stack('category')[['price']].groupby('date').sum().resample('MS').sum()\n",
    "benefices['year'] = benefices.index.year\n",
    "marge = {2017:0.5,2018:0.5,2019:0.5,2020:0.35,2021:0.35,2022:0.35,2023:0.45}\n",
    "benefices['marge'] = benefices['year'].map(marge)\n",
    "benefices['charges_fixes'] = 4000\n",
    "benefices = benefices.groupby(['date','year']).sum()\n",
    "benefices['total'] = benefices['price'] * benefices['marge'] - benefices['charges_fixes']\n",
    "del benefices['price']\n",
    "del benefices['marge']\n",
    "del benefices['charges_fixes']\n",
    "benefices = benefices.unstack('year').fillna(0)\n",
    "benefices.columns = benefices.columns.droplevel(0)\n",
    "benefices.plot(kind='bar')"
   ]
  },
  {
   "cell_type": "code",
   "execution_count": null,
   "id": "1a16ca4b",
   "metadata": {},
   "outputs": [],
   "source": [
    "benefices.sum()"
   ]
  },
  {
   "cell_type": "code",
   "execution_count": null,
   "id": "8c53ce99",
   "metadata": {},
   "outputs": [],
   "source": []
  }
 ],
 "metadata": {
  "kernelspec": {
   "display_name": "Python 3 (ipykernel)",
   "language": "python",
   "name": "python3"
  },
  "language_info": {
   "codemirror_mode": {
    "name": "ipython",
    "version": 3
   },
   "file_extension": ".py",
   "mimetype": "text/x-python",
   "name": "python",
   "nbconvert_exporter": "python",
   "pygments_lexer": "ipython3",
   "version": "3.11.4"
  }
 },
 "nbformat": 4,
 "nbformat_minor": 5
}
