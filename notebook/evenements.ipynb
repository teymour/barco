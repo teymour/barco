{
 "cells": [
  {
   "cell_type": "code",
   "execution_count": null,
   "id": "fadde7c6",
   "metadata": {},
   "outputs": [],
   "source": [
    "import pandas as pd\n",
    "import os\n",
    "from datetime import datetime\n",
    "from dateutil.relativedelta import relativedelta \n",
    "import mydashtools as dt\n",
    "import plotly.express as px\n",
    "pd.options.plotting.backend = \"plotly\"\n",
    "if dt.is_notebook():\n",
    "    __file__ = \"notebook/\"\n",
    "\n",
    "events = pd.read_csv(os.path.dirname(os.path.realpath(__file__))+\"/../events/barco_events_all.csv\", sep=\";\",decimal=',',low_memory=False, index_col=False)\n",
    "\n",
    "limit_year = None\n",
    "if os.getenv(\"LIMIT_YEAR\") is not None:\n",
    "    limit_year = os.getenv(\"LIMIT_YEAR\")\n",
    "if limit_year:\n",
    "    events = events[events['date'] <= limit_year+'-12-31']\n",
    "\n",
    "events['date'] = pd.to_datetime(events['date'])\n",
    "events.set_index('date', inplace=True)\n",
    "events_by_day = events.resample('D')['titre'].apply(' / '.join).reset_index()\n",
    "events_by_day['date'] = events_by_day['date'].apply(lambda x: str(x)[0:10])\n",
    "events_by_day.set_index('date', inplace=True)\n",
    "d2e = events_by_day[events_by_day['titre'] != '']['titre'].to_dict()\n",
    "\n",
    "if dt.is_notebook():\n",
    "    print(events.head())"
   ]
  },
  {
   "cell_type": "code",
   "execution_count": null,
   "id": "59aa26c3",
   "metadata": {},
   "outputs": [],
   "source": [
    "if limit_year:\n",
    "    now = max(events.index)\n",
    "else:\n",
    "    now = datetime.now()\n",
    "limit_date = datetime.now() + relativedelta(months=-1)\n",
    "\n",
    "events_par_semaine = events[events.index > str(limit_date)[0:19]]\n",
    "events_par_semaine['titre'] = events_par_semaine['titre'].apply(lambda x: x[:50])\n",
    "events_par_semaine = events_par_semaine.resample('W')[['url', 'titre']].aggregate({'url': 'count', 'titre': \" | \".join}).rename(columns={'url': 'Nb évènements'})\n",
    "\n",
    "events_par_semaine[\"Nb d'évènements\"] = events_par_semaine[events_par_semaine.index <= now.isoformat()][\"Nb évènements\"]\n",
    "events_par_semaine[\"Nb d'évènements futurs\"] = events_par_semaine[events_par_semaine.index > now.isoformat()][\"Nb évènements\"]\n",
    "events_par_semaine['titre'] = events_par_semaine['titre'].apply(lambda x: x[:125])\n",
    "\n",
    "del events_par_semaine[\"Nb évènements\"]\n",
    "fig = px.bar(events_par_semaine,\n",
    "              y=['Nb d\\'évènements', 'Nb d\\'évènements futurs'], hover_data=['titre'],\n",
    "             color_discrete_map={\"Nb d'évènements\": '#636efa', \"Nb d'évènements futurs\": '#9aa1fa'}\n",
    "            )\n",
    "fig.update_layout(showlegend=False,xaxis_title=None,yaxis_title=None)\n",
    "fig.update_yaxes(dtick=\"n\")\n",
    "\n",
    "dt.fig_save_or_show(fig, 'evenements_01_events_par_semaine', limit_year)"
   ]
  },
  {
   "cell_type": "code",
   "execution_count": null,
   "id": "fec8224e",
   "metadata": {},
   "outputs": [],
   "source": [
    "events_mensuels_par_an = events.resample('MS')[['url']].count().rename(columns={'url': 'Nb d\\'évènements'})\n",
    "\n",
    "fig = px.bar(events_mensuels_par_an)\n",
    "fig.update_layout(showlegend=False,xaxis_title=None,yaxis_title=None)\n",
    "dt.fig_save_or_show(fig, 'evenements_02_events_mensuels_par_an', limit_year)"
   ]
  },
  {
   "cell_type": "code",
   "execution_count": null,
   "id": "132923e4",
   "metadata": {},
   "outputs": [],
   "source": [
    "events_par_an = events.resample('YS')[['url']].count().rename(columns={'url': 'Nb d\\'évènements'})\n",
    "events_par_an.reset_index(inplace=True)\n",
    "events_par_an['Année'] = events_par_an['date'].apply(lambda x: str(x)[0:4])\n",
    "events_par_an.set_index('Année', inplace=True)\n",
    "del events_par_an['date']\n",
    "\n",
    "fig = px.bar(events_par_an)\n",
    "fig.update_layout(showlegend=False,xaxis_title=None,yaxis_title=None)\n",
    "dt.fig_save_or_show(fig, 'evenements_03_events_par_an', limit_year)"
   ]
  },
  {
   "cell_type": "code",
   "execution_count": null,
   "id": "ee3e4cdd",
   "metadata": {},
   "outputs": [],
   "source": [
    "zelty = pd.read_csv(os.path.dirname(os.path.realpath(__file__))+\"/../zelty/zelty.csv\", sep=\";\",decimal=',',low_memory=False, index_col=False)\n",
    "zelty['date'] = pd.to_datetime(zelty['date']).apply(lambda x: str(x)[0:10])\n",
    "if (limit_year):\n",
    "    zelty = zelty[zelty['date'] <= limit_year+'-12-31']\n",
    "zelty_by_day = zelty.groupby('date')[['price']].sum()\n",
    "zelty_by_day['evenement'] = zelty_by_day.index.map(d2e)\n",
    "#zelty_by_day.sort_values('price', ascending=False).dropna()\n"
   ]
  },
  {
   "cell_type": "code",
   "execution_count": null,
   "id": "3dbf75c9",
   "metadata": {},
   "outputs": [],
   "source": [
    "adhésions = zelty[zelty['category'] == 'Adhésion'].groupby('date')[['price']].count().rename(columns={'price': 'adhésions'})\n",
    "adhésions['evenement'] = adhésions.index.map(d2e)\n",
    "zelty_by_day['adhésions'] = adhésions['adhésions']\n",
    "zelty_by_day['jour'] = pd.to_datetime(zelty_by_day.index).strftime('%A') \n",
    "evenement_adhesion_prix = zelty_by_day.dropna().sort_index(ascending=False)[['jour','evenement', 'adhésions', 'price']]\n",
    "dt.true_or_html_to_file(evenement_adhesion_prix, 'evenements_04_adhesion_prix', limit_year) and evenement_adhesion_prix"
   ]
  },
  {
   "cell_type": "code",
   "execution_count": null,
   "id": "e955f754",
   "metadata": {},
   "outputs": [],
   "source": []
  }
 ],
 "metadata": {
  "kernelspec": {
   "display_name": "Python 3 (ipykernel)",
   "language": "python",
   "name": "python3"
  },
  "language_info": {
   "codemirror_mode": {
    "name": "ipython",
    "version": 3
   },
   "file_extension": ".py",
   "mimetype": "text/x-python",
   "name": "python",
   "nbconvert_exporter": "python",
   "pygments_lexer": "ipython3",
   "version": "3.11.5"
  }
 },
 "nbformat": 4,
 "nbformat_minor": 5
}
