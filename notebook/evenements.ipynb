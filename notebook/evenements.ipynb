{
 "cells": [
  {
   "cell_type": "code",
   "execution_count": null,
   "id": "fadde7c6",
   "metadata": {},
   "outputs": [],
   "source": [
    "import pandas as pd\n",
    "import os\n",
    "from datetime import datetime\n",
    "import mydashtools as dt\n",
    "import plotly.express as px\n",
    "pd.options.plotting.backend = \"plotly\"\n",
    "if dt.is_notebook():\n",
    "    __file__ = \"notebook/\"\n",
    "\n",
    "events = pd.read_csv(os.path.dirname(os.path.realpath(__file__))+\"/../events/barco_events_all.csv\", sep=\";\",decimal=',',low_memory=False, index_col=False)\n",
    "events['date'] = pd.to_datetime(events['date'])\n",
    "events.set_index('date', inplace=True)\n",
    "\n",
    "if dt.is_notebook():\n",
    "    print(events.head())"
   ]
  },
  {
   "cell_type": "code",
   "execution_count": null,
   "id": "59aa26c3",
   "metadata": {},
   "outputs": [],
   "source": [
    "limit_date = datetime.now().replace(month=datetime.now().month - 2)\n",
    "events_par_semaine = events[events.index > str(limit_date)[0:19]]\n",
    "events_par_semaine = events_par_semaine.resample('W')[['url']].count().rename(columns={'url': 'nb'})\n",
    "\n",
    "fig = px.bar(events_par_semaine)\n",
    "fig.update_layout(showlegend=False,xaxis_title=None,yaxis_title=None)\n",
    "dt.fig_save_or_show(fig, 'evenements_01_events_par_semaine')"
   ]
  },
  {
   "cell_type": "code",
   "execution_count": null,
   "id": "fec8224e",
   "metadata": {},
   "outputs": [],
   "source": [
    "events_mensuels_par_an = events.resample('MS')[['url']].count().rename(columns={'url': 'nb'})\n",
    "\n",
    "fig = px.bar(events_mensuels_par_an)\n",
    "fig.update_layout(showlegend=False,xaxis_title=None,yaxis_title=None)\n",
    "dt.fig_save_or_show(fig, 'evenements_02_events_mensuels_par_an')"
   ]
  },
  {
   "cell_type": "code",
   "execution_count": null,
   "id": "132923e4",
   "metadata": {},
   "outputs": [],
   "source": [
    "events_par_an = events.resample('YS')[['url']].count().rename(columns={'url': 'nb'})\n",
    "\n",
    "fig = px.bar(events_par_an)\n",
    "fig.update_layout(showlegend=False,xaxis_title=None,yaxis_title=None)\n",
    "dt.fig_save_or_show(fig, 'evenements_03_events_par_an')"
   ]
  },
  {
   "cell_type": "code",
   "execution_count": null,
   "id": "29a33115",
   "metadata": {},
   "outputs": [],
   "source": []
  }
 ],
 "metadata": {
  "kernelspec": {
   "display_name": "Python 3 (ipykernel)",
   "language": "python",
   "name": "python3"
  },
  "language_info": {
   "codemirror_mode": {
    "name": "ipython",
    "version": 3
   },
   "file_extension": ".py",
   "mimetype": "text/x-python",
   "name": "python",
   "nbconvert_exporter": "python",
   "pygments_lexer": "ipython3",
   "version": "3.11.4"
  }
 },
 "nbformat": 4,
 "nbformat_minor": 5
}
