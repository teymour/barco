{
 "cells": [
  {
   "cell_type": "code",
   "execution_count": null,
   "id": "cf7761ec",
   "metadata": {},
   "outputs": [],
   "source": [
    "import pandas as pd\n",
    "import os\n",
    "from datetime import datetime\n",
    "import mydashtools as dt\n",
    "import plotly.express as px\n",
    "pd.options.plotting.backend = \"plotly\"\n",
    "if dt.is_notebook():\n",
    "    __file__ = \"notebook/\"\n",
    "\n",
    "zelty = pd.read_csv(os.path.dirname(os.path.realpath(__file__))+\"/../zelty/zelty.csv\", sep=\";\",decimal=',',low_memory=False, index_col=False)\n",
    "zelty['date'] = pd.to_datetime(zelty['date'])\n",
    "if dt.is_notebook():\n",
    "    print(zelty.head())\n",
    "\n",
    "events = pd.read_csv(os.path.dirname(os.path.realpath(__file__))+\"/../events/barco_events_all.csv\", sep=\";\",decimal=',',low_memory=False, index_col=False)\n",
    "events['date'] = pd.to_datetime(events['date'])\n",
    "events.set_index('date', inplace=True)\n",
    "events_by_day = events.resample('D')['titre'].apply(' / '.join).reset_index()\n",
    "events_by_day['date'] = events_by_day['date'].apply(lambda x: str(x)[0:10])\n",
    "events_by_day.set_index('date', inplace=True)\n",
    "d2e = events_by_day[events_by_day['titre'] != '']['titre'].to_dict()"
   ]
  },
  {
   "cell_type": "code",
   "execution_count": null,
   "id": "bd87d302",
   "metadata": {},
   "outputs": [],
   "source": [
    "adhésions = zelty[zelty['category'] == 'Adhésion'].groupby('date')[['price']].count()"
   ]
  },
  {
   "cell_type": "code",
   "execution_count": null,
   "id": "488c8147",
   "metadata": {},
   "outputs": [],
   "source": [
    "limit_date = datetime.now().replace(month=datetime.now().month - 1)\n",
    "adhésions_last_month = adhésions[adhésions.index.to_period(\"M\") >= str(limit_date.year)+'-'+str(limit_date.month)]\n",
    "adhésions_last_month = adhésions_last_month.resample('D').sum().rename(columns={'price': 'Nb d\\'adhésion'})\n",
    "adhésions_last_month['évènement'] = adhésions_last_month.index.strftime('%Y-%m-%d').map(d2e).fillna('<aucun>')\n",
    "\n",
    "fig = px.bar(adhésions_last_month, y=['Nb d\\'adhésion'], hover_data=['évènement'])\n",
    "fig.update_layout(showlegend=False,xaxis_title=None,yaxis_title=None)\n",
    "dt.fig_save_or_show(fig, 'adhesions_01_adhesion_des_derniers_jours')"
   ]
  },
  {
   "cell_type": "code",
   "execution_count": null,
   "id": "e4e9eb49",
   "metadata": {},
   "outputs": [],
   "source": [
    "limit_date = datetime.now().replace(year=datetime.now().year - 1)\n",
    "adhésions_top_year = adhésions[adhésions.index.to_period(\"M\") >= str(limit_date.year)+'-'+str(limit_date.month)]\n",
    "adhésions_top_year = adhésions_top_year.resample('D').sum().rename(columns={'price': 'Nb d\\'adhésion'})\n",
    "if dt.is_notebook():\n",
    "    print(adhésions_top_year.sort_values(by='Nb d\\'adhésion', ascending=False).head(20))"
   ]
  },
  {
   "cell_type": "code",
   "execution_count": null,
   "id": "628c9df1",
   "metadata": {},
   "outputs": [],
   "source": [
    "adhésions_by_month = adhésions.resample('M').sum().rename(columns={'price': 'Nb d\\'adhésion'})\n",
    "adhésions_by_month['Année'] = adhésions_by_month.index.year\n",
    "adhésions_by_month = adhésions_by_month.groupby(['date','Année']).sum().unstack('Année').fillna(0)\n",
    "adhésions_by_month.columns = adhésions_by_month.columns.droplevel(0)\n",
    "\n",
    "fig = px.bar(adhésions_by_month)\n",
    "fig.update_layout(showlegend=False,xaxis_title=None,yaxis_title=None)\n",
    "dt.fig_save_or_show(fig, 'adhesions_02_adhesion_par_mois')"
   ]
  },
  {
   "cell_type": "code",
   "execution_count": null,
   "id": "4c60750c",
   "metadata": {},
   "outputs": [],
   "source": [
    "#adhésions_by_year.plot(kind=\"bar\")"
   ]
  },
  {
   "cell_type": "code",
   "execution_count": null,
   "id": "90a691e1",
   "metadata": {},
   "outputs": [],
   "source": [
    "adhésions_by_year = adhésions.resample('Y').sum().rename(columns={'price': 'Nb d\\'adhésion'})\n",
    "adhésions_by_year.index = adhésions_by_year.index.year\n",
    "\n",
    "adhésions_a_date = adhésions.copy()\n",
    "adhésions_a_date['a_date'] = adhésions_a_date.index.month*100+adhésions_a_date.index.day\n",
    "adhésions_a_date = adhésions_a_date[adhésions_a_date['a_date'] < datetime.now().month*100+datetime.now().day]\n",
    "del adhésions_a_date['a_date']\n",
    "adhésions_a_date = adhésions_a_date.resample('Y').sum().rename(columns={'price': 'Nb d\\'adhésion'})\n",
    "adhésions_a_date.index = adhésions_a_date.index.year\n",
    "libelle_a_date = \"À date du %02d/%02d\" % (datetime.now().day, datetime.now().month)\n",
    "adhésions_by_year[libelle_a_date] = adhésions_a_date['Nb d\\'adhésion']\n",
    "#adhésions_by_year.histogram()\n",
    "adhésions_by_year.fillna(0, inplace=True)\n",
    "adhésions_by_year['toute l\\'année'] = adhésions_by_year['Nb d\\'adhésion']# - adhésions_by_year[libelle_a_date]\n",
    "del adhésions_by_year['Nb d\\'adhésion']\n",
    "del adhésions_by_year['toute l\\'année'][max(adhésions_by_year.index)]\n",
    "\n",
    "import plotly.graph_objects as go\n",
    "fig = go.Figure(data=[\n",
    "    go.Bar(name=libelle_a_date, x=adhésions_by_year.index, y=adhésions_by_year[libelle_a_date]),\n",
    "    go.Bar(name='Toute l\\'année', x=adhésions_by_year.index, y=adhésions_by_year['toute l\\'année'])\n",
    "])\n",
    "# Change the bar mode\n",
    "fig.update_layout(separators=', ')\n",
    "fig.update_yaxes(tickformat=\",d\")\n",
    "\n",
    "dt.fig_save_or_show(fig, 'adhesions_03_adhesion_par_an')"
   ]
  },
  {
   "cell_type": "code",
   "execution_count": null,
   "id": "686f9f88",
   "metadata": {},
   "outputs": [],
   "source": []
  }
 ],
 "metadata": {
  "kernelspec": {
   "display_name": "Python 3 (ipykernel)",
   "language": "python",
   "name": "python3"
  },
  "language_info": {
   "codemirror_mode": {
    "name": "ipython",
    "version": 3
   },
   "file_extension": ".py",
   "mimetype": "text/x-python",
   "name": "python",
   "nbconvert_exporter": "python",
   "pygments_lexer": "ipython3",
   "version": "3.11.5"
  }
 },
 "nbformat": 4,
 "nbformat_minor": 5
}
