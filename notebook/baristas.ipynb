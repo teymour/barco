{
 "cells": [
  {
   "cell_type": "code",
   "execution_count": null,
   "id": "40bc8ddf",
   "metadata": {},
   "outputs": [],
   "source": [
    "import pandas as pd\n",
    "import os\n",
    "from datetime import datetime\n",
    "import mydashtools as dt\n",
    "import plotly.express as px\n",
    "pd.options.plotting.backend = \"plotly\"\n",
    "\n",
    "services_baristas = pd.read_csv(os.path.dirname(os.path.realpath(__file__))+\"/../calendar/baristas.csv\", sep=\";\",decimal=',',low_memory=False, index_col=False)\n",
    "services_baristas['mois'] = pd.to_datetime(services_baristas['mois'])\n",
    "if dt.is_notebook():\n",
    "    print(services_baristas.head())"
   ]
  },
  {
   "cell_type": "code",
   "execution_count": null,
   "id": "08b4cee8",
   "metadata": {},
   "outputs": [],
   "source": [
    "creneaux_annules = services_baristas[services_baristas['role'] == \"CRENEAU ANNULE\"][['mois', 'role']].groupby('mois').count()\n",
    "creneaux_annules['year'] = creneaux_annules.index.year\n",
    "creneaux_annules = creneaux_annules.reset_index().set_index(['mois', 'year']).unstack('year').fillna(0)\n",
    "creneaux_annules.columns = creneaux_annules.columns.droplevel(0)\n",
    "\n",
    "fig = px.bar(creneaux_annules)\n",
    "dt.fig_save_or_show(fig, 'barista_01_creneaux_annules')"
   ]
  },
  {
   "cell_type": "code",
   "execution_count": null,
   "id": "378407c2",
   "metadata": {},
   "outputs": [],
   "source": [
    "nb_baristas = services_baristas[services_baristas['role'] != \"CRENEAU ANNULE\"].groupby(['mois','nom','telephone']).count().rename(columns= {'role': 'nb'})\n",
    "nb_baristas = nb_baristas.groupby('mois').aggregate(func=['count', 'sum'])\n",
    "nb_baristas.columns = nb_baristas.columns.droplevel(0)\n",
    "nb_baristas = nb_baristas.rename(columns={'count': 'nb baristas', 'sum': 'nb services réalisés'})\n",
    "nb_baristas['year'] = nb_baristas.index.year\n",
    "nb_baristas = nb_baristas.reset_index().set_index(['mois', 'year']).unstack('year').fillna(0)"
   ]
  },
  {
   "cell_type": "code",
   "execution_count": null,
   "id": "0cc333b8",
   "metadata": {},
   "outputs": [],
   "source": [
    "fig = px.bar(nb_baristas[['nb baristas']].stack('year').groupby('year').sum())\n",
    "dt.fig_save_or_show(fig, 'barista_02_nb_baristas_par_an')"
   ]
  },
  {
   "cell_type": "code",
   "execution_count": null,
   "id": "e9e35d80",
   "metadata": {},
   "outputs": [],
   "source": [
    "fig = px.bar(nb_baristas[['nb services réalisés']].stack('year').groupby('year').sum())\n",
    "dt.fig_save_or_show(fig, 'barista_03_nb_services_realises_par_an')"
   ]
  },
  {
   "cell_type": "code",
   "execution_count": null,
   "id": "c868dc53",
   "metadata": {},
   "outputs": [],
   "source": [
    "fig = px.bar(nb_baristas['nb baristas'])\n",
    "dt.fig_save_or_show(fig, 'barista_04_nb_baristas_par_mois')"
   ]
  },
  {
   "cell_type": "code",
   "execution_count": null,
   "id": "71f5c325",
   "metadata": {},
   "outputs": [],
   "source": [
    "fig = px.bar(nb_baristas['nb services réalisés'])\n",
    "dt.fig_save_or_show(fig, 'barista_05_nb_services_réalisés_par_mois')"
   ]
  },
  {
   "cell_type": "code",
   "execution_count": null,
   "id": "de9677ec",
   "metadata": {},
   "outputs": [],
   "source": [
    "services = services_baristas[services_baristas['role'] == \"REFERENT\"].groupby(['mois','nom','telephone']).count().rename(columns= {'role': 'nb'})\n",
    "services = services.groupby('mois').aggregate(func=['count', 'sum'])\n",
    "services.columns = services.columns.droplevel(0)\n",
    "services['year'] = services.index.year\n",
    "\n",
    "services = services.reset_index().set_index(['mois', 'year']).unstack('year').fillna(0)"
   ]
  },
  {
   "cell_type": "code",
   "execution_count": null,
   "id": "822e94e8",
   "metadata": {},
   "outputs": [],
   "source": [
    "fig = px.bar(services['count'])\n",
    "dt.fig_save_or_show(fig, 'barista_06_nb_referents_par_mois')"
   ]
  },
  {
   "cell_type": "code",
   "execution_count": null,
   "id": "a6d498d7",
   "metadata": {},
   "outputs": [],
   "source": [
    "fig = px.bar(services['sum'])\n",
    "dt.fig_save_or_show(fig, 'barista_07_nb_services_ouverts')"
   ]
  },
  {
   "cell_type": "code",
   "execution_count": null,
   "id": "fe1c4ca1",
   "metadata": {},
   "outputs": [],
   "source": [
    "limit_date = datetime.now().replace(year=datetime.now().year - 1)\n",
    "baristas_t2n = services_baristas.groupby(['telephone'])['nom','role'].first()\n",
    "baristas = services_baristas[services_baristas['mois'] > limit_date][services_baristas['role'] != \"CRENEAU ANNULE\"].groupby(['telephone'])[['role']].count()\n",
    "baristas['nb'] = services_baristas[services_baristas['mois'] > limit_date][services_baristas['role'] != \"CRENEAU ANNULE\"].groupby(['telephone'])[['role']].count()\n",
    "baristas.sort_values(by='nb', ascending=False, inplace=True)\n",
    "baristas['nom'] = baristas.index.map(baristas_t2n['nom'])\n",
    "baristas = baristas.reset_index()[['nom', 'nb']].groupby('nom')[['nb']].sum().sort_values(by='nb', ascending=False)\n",
    "\n",
    "fig = px.bar(baristas)\n",
    "dt.fig_save_or_show(fig, 'barista_08_nb_services_par_baristas_12_mois')"
   ]
  },
  {
   "cell_type": "code",
   "execution_count": null,
   "id": "74fc94f1",
   "metadata": {},
   "outputs": [],
   "source": [
    "if dt.is_notebook():\n",
    "    print(baristas.head(30))"
   ]
  },
  {
   "cell_type": "code",
   "execution_count": null,
   "id": "d0e36de3",
   "metadata": {},
   "outputs": [],
   "source": [
    "res={\n",
    "    'un_seul_service': len(baristas[baristas[['nb']] < 2].dropna().reset_index()['nom'].unique()),\n",
    "    'plus_de_20_services': len(baristas[baristas[['nb']] > 20].dropna().reset_index()['nom'].unique()),\n",
    "    'plus_de_40_services': len(baristas[baristas[['nb']] > 40].dropna().reset_index()['nom'].unique()),\n",
    "    'plus_de_60_services': len(baristas[baristas[['nb']] > 60].dropna().reset_index()['nom'].unique()),\n",
    "    'nb_baristas': len(baristas.dropna().reset_index()['nom'].unique()),\n",
    "    'moyenne_du_nb_de_services': baristas['nb'].mean()\n",
    "}\n",
    "barista_std = baristas.reset_index()\n",
    "res['ecart_type_du_nb_de_services'] = barista_std[barista_std.index == len(barista_std)/2].reset_index()['nb'][0]\n",
    "if dt.is_notebook():\n",
    "    print(res)"
   ]
  },
  {
   "cell_type": "code",
   "execution_count": null,
   "id": "74e1112e",
   "metadata": {},
   "outputs": [],
   "source": []
  }
 ],
 "metadata": {
  "kernelspec": {
   "display_name": "Python 3 (ipykernel)",
   "language": "python",
   "name": "python3"
  },
  "language_info": {
   "codemirror_mode": {
    "name": "ipython",
    "version": 3
   },
   "file_extension": ".py",
   "mimetype": "text/x-python",
   "name": "python",
   "nbconvert_exporter": "python",
   "pygments_lexer": "ipython3",
   "version": "3.11.4"
  }
 },
 "nbformat": 4,
 "nbformat_minor": 5
}
