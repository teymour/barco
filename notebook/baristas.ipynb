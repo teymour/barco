{
 "cells": [
  {
   "cell_type": "code",
   "execution_count": null,
   "id": "40bc8ddf",
   "metadata": {},
   "outputs": [],
   "source": [
    "import pandas as pd\n",
    "from datetime import datetime\n",
    "pd.options.plotting.backend = \"plotly\"\n",
    "\n",
    "services_baristas = pd.read_csv(\"../calendar/baristas.csv\", sep=\";\",decimal=',',low_memory=False, index_col=False)\n",
    "services_baristas['mois'] = pd.to_datetime(services_baristas['mois'])\n",
    "services_baristas.head()"
   ]
  },
  {
   "cell_type": "code",
   "execution_count": null,
   "id": "b83b7fd6",
   "metadata": {},
   "outputs": [],
   "source": [
    "creneaux_annules = services_baristas[services_baristas['role'] == \"CRENEAU ANNULE\"][['mois', 'role']].groupby('mois').count()\n",
    "creneaux_annules['year'] = creneaux_annules.index.year\n",
    "creneaux_annules = creneaux_annules.reset_index().set_index(['mois', 'year']).unstack('year').fillna(0)\n",
    "creneaux_annules.columns = creneaux_annules.columns.droplevel(0)\n",
    "creneaux_annules.plot(kind='bar')"
   ]
  },
  {
   "cell_type": "code",
   "execution_count": null,
   "id": "378407c2",
   "metadata": {},
   "outputs": [],
   "source": [
    "nb_baristas = services_baristas[services_baristas['role'] != \"CRENEAU ANNULE\"].groupby(['mois','nom','telephone']).count().rename(columns= {'role': 'nb'})\n",
    "nb_baristas = nb_baristas.groupby('mois').aggregate(func=['count', 'sum'])\n",
    "nb_baristas.columns = nb_baristas.columns.droplevel(0)\n",
    "nb_baristas = nb_baristas.rename(columns={'count': 'nb baristas', 'sum': 'nb services réalisés'})\n",
    "nb_baristas['year'] = nb_baristas.index.year\n",
    "nb_baristas = nb_baristas.reset_index().set_index(['mois', 'year']).unstack('year').fillna(0)"
   ]
  },
  {
   "cell_type": "code",
   "execution_count": null,
   "id": "7ae0284a",
   "metadata": {},
   "outputs": [],
   "source": [
    "nb_baristas[['nb baristas']].stack('year').groupby('year').sum().plot(kind='bar')"
   ]
  },
  {
   "cell_type": "code",
   "execution_count": null,
   "id": "48856823",
   "metadata": {},
   "outputs": [],
   "source": [
    "nb_baristas[['nb services réalisés']].stack('year').groupby('year').sum().plot(kind='bar')"
   ]
  },
  {
   "cell_type": "code",
   "execution_count": null,
   "id": "5002c57d",
   "metadata": {},
   "outputs": [],
   "source": [
    "nb_baristas['nb baristas'].plot(kind='bar')"
   ]
  },
  {
   "cell_type": "code",
   "execution_count": null,
   "id": "71f5c325",
   "metadata": {},
   "outputs": [],
   "source": [
    "nb_baristas['nb services réalisés'].plot(kind='bar')"
   ]
  },
  {
   "cell_type": "code",
   "execution_count": null,
   "id": "1544e2ac",
   "metadata": {},
   "outputs": [],
   "source": [
    "services = services_baristas[services_baristas['role'] == \"REFERENT\"].groupby(['mois','nom','telephone']).count().rename(columns= {'role': 'nb'})\n",
    "services = services.groupby('mois').aggregate(func=['count', 'sum'])\n",
    "services.columns = services.columns.droplevel(0)\n",
    "services['year'] = services.index.year\n",
    "\n",
    "services = services.reset_index().set_index(['mois', 'year']).unstack('year').fillna(0)"
   ]
  },
  {
   "cell_type": "code",
   "execution_count": null,
   "id": "d62ad03b",
   "metadata": {},
   "outputs": [],
   "source": [
    "services['count'].plot(kind='bar')"
   ]
  },
  {
   "cell_type": "code",
   "execution_count": null,
   "id": "ad1fe9af",
   "metadata": {},
   "outputs": [],
   "source": [
    "services['sum'].plot(kind='bar')"
   ]
  },
  {
   "cell_type": "code",
   "execution_count": null,
   "id": "78b35bd5",
   "metadata": {},
   "outputs": [],
   "source": [
    "limit_date = datetime.now().replace(year=datetime.now().year - 1)\n",
    "baristas_t2n = services_baristas.groupby(['telephone'])['nom','role'].first()\n",
    "baristas = services_baristas[services_baristas['mois'] > limit_date][services_baristas['role'] != \"CRENEAU ANNULE\"].groupby(['telephone'])[['role']].count()\n",
    "baristas['nb'] = services_baristas[services_baristas['mois'] > limit_date][services_baristas['role'] != \"CRENEAU ANNULE\"].groupby(['telephone'])[['role']].count()\n",
    "baristas.sort_values(by='nb', ascending=False, inplace=True)\n",
    "baristas['nom'] = baristas.index.map(baristas_t2n['nom'])\n",
    "baristas = baristas.reset_index()[['nom', 'nb']].groupby('nom')[['nb']].sum().sort_values(by='nb', ascending=False)\n",
    "baristas.plot()"
   ]
  },
  {
   "cell_type": "code",
   "execution_count": null,
   "id": "08b479ee",
   "metadata": {},
   "outputs": [],
   "source": [
    "baristas.head(30)"
   ]
  },
  {
   "cell_type": "code",
   "execution_count": null,
   "id": "db1321e8",
   "metadata": {},
   "outputs": [],
   "source": [
    "len(baristas[baristas[['nb']] < 2].dropna().reset_index()['nom'].unique())"
   ]
  },
  {
   "cell_type": "code",
   "execution_count": null,
   "id": "6dbf8f68",
   "metadata": {},
   "outputs": [],
   "source": [
    "len(baristas[baristas[['nb']] > 20].dropna().reset_index()['nom'].unique())"
   ]
  },
  {
   "cell_type": "code",
   "execution_count": null,
   "id": "9331d3d5",
   "metadata": {},
   "outputs": [],
   "source": [
    "len(baristas[baristas[['nb']] > 40].dropna().reset_index()['nom'].unique())"
   ]
  },
  {
   "cell_type": "code",
   "execution_count": null,
   "id": "4cb37de7",
   "metadata": {},
   "outputs": [],
   "source": [
    "len(baristas[baristas[['nb']] > 60].dropna().reset_index()['nom'].unique())"
   ]
  },
  {
   "cell_type": "code",
   "execution_count": null,
   "id": "e68a6512",
   "metadata": {},
   "outputs": [],
   "source": [
    "len(baristas.dropna().reset_index()['nom'].unique())"
   ]
  },
  {
   "cell_type": "code",
   "execution_count": null,
   "id": "ed9cbf0a",
   "metadata": {},
   "outputs": [],
   "source": [
    "barista_std = baristas.reset_index()\n",
    "barista_std[barista_std.index == len(barista_std)/2].reset_index()['nb'][0]"
   ]
  },
  {
   "cell_type": "code",
   "execution_count": null,
   "id": "c15bdcd9",
   "metadata": {},
   "outputs": [],
   "source": [
    "baristas['nb'].mean()"
   ]
  },
  {
   "cell_type": "code",
   "execution_count": null,
   "id": "7177d71b",
   "metadata": {},
   "outputs": [],
   "source": []
  }
 ],
 "metadata": {
  "kernelspec": {
   "display_name": "Python 3 (ipykernel)",
   "language": "python",
   "name": "python3"
  },
  "language_info": {
   "codemirror_mode": {
    "name": "ipython",
    "version": 3
   },
   "file_extension": ".py",
   "mimetype": "text/x-python",
   "name": "python",
   "nbconvert_exporter": "python",
   "pygments_lexer": "ipython3",
   "version": "3.11.4"
  }
 },
 "nbformat": 4,
 "nbformat_minor": 5
}
