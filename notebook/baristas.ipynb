{
 "cells": [
  {
   "cell_type": "code",
   "execution_count": null,
   "id": "40bc8ddf",
   "metadata": {},
   "outputs": [],
   "source": [
    "import pandas as pd\n",
    "import os\n",
    "from datetime import datetime\n",
    "from dateutil.relativedelta import relativedelta \n",
    "import mydashtools as dt\n",
    "import plotly.express as px\n",
    "import hashlib\n",
    "pd.options.plotting.backend = \"plotly\"\n",
    "if dt.is_notebook():\n",
    "    __file__ = \"notebook/\"\n",
    "\n",
    "services_baristas_annule = pd.read_csv(os.path.dirname(os.path.realpath(__file__))+\"/../calendar/baristas.csv\", sep=\";\",decimal=',',low_memory=False, index_col=False)\n",
    "services_baristas_annule['Mois'] = pd.to_datetime(services_baristas_annule['date'].apply(lambda x: x[0:7]+'-01'))\n",
    "services_baristas_annule['Date'] = pd.to_datetime(services_baristas_annule['date'])\n",
    "del services_baristas_annule['date']\n",
    "\n",
    "services_baristas_annule['nom'] = services_baristas_annule['nom'].str.title()\n",
    "t2n = services_baristas_annule.groupby('telephone')['nom'].first().to_dict()\n",
    "n2t = services_baristas_annule.groupby('nom')['telephone'].first().to_dict()\n",
    "services_baristas_annule['telephone_nom'] = services_baristas_annule['nom'].map(n2t)\n",
    "services_baristas_annule['telephone'] = services_baristas_annule['telephone_nom'].combine_first(services_baristas_annule['telephone']).fillna('')\n",
    "services_baristas_annule['nom_telephone'] = services_baristas_annule['telephone'].map(t2n)\n",
    "services_baristas_annule['nom'] = services_baristas_annule['nom_telephone'].combine_first(services_baristas_annule['nom'])\n",
    "services_baristas_annule['nom_tel'] = services_baristas_annule['nom'].fillna('') + services_baristas_annule['telephone'].fillna('')\n",
    "services_baristas_annule['barista_hash'] = services_baristas_annule['nom_tel'].apply(lambda x: hashlib.md5(x.encode()).hexdigest())\n",
    "del services_baristas_annule['nom_telephone']\n",
    "del services_baristas_annule['telephone_nom']\n",
    "del services_baristas_annule['nom_tel']"
   ]
  },
  {
   "cell_type": "code",
   "execution_count": null,
   "id": "08b4cee8",
   "metadata": {
    "scrolled": true
   },
   "outputs": [],
   "source": [
    "creneaux_annules = services_baristas_annule[services_baristas_annule['role'] == \"CRENEAU ANNULE\"][['Mois', 'role']].groupby('Mois').count()\n",
    "creneaux_annules['Année'] = creneaux_annules.index.year\n",
    "creneaux_annules = creneaux_annules.reset_index().set_index(['Mois', 'Année']).unstack('Année').fillna(0)\n",
    "creneaux_annules.columns = creneaux_annules.columns.droplevel(0)\n",
    "\n",
    "fig = px.bar(creneaux_annules)\n",
    "fig.update_layout(showlegend=False,xaxis_title=None,yaxis_title=None)\n",
    "dt.fig_save_or_show(fig, 'baristas_01_creneaux_annules')"
   ]
  },
  {
   "cell_type": "code",
   "execution_count": null,
   "id": "aad38714",
   "metadata": {},
   "outputs": [],
   "source": [
    "import hashlib\n",
    "\n",
    "services_baristas = services_baristas_annule[services_baristas_annule['role'] != \"CRENEAU ANNULE\"]\n",
    "services_baristas = services_baristas_annule[services_baristas_annule['role'] != \"RENFORT\"]\n",
    "\n",
    "premier_service = services_baristas.groupby('barista_hash')[['Date']].min()['Date'].to_dict()\n",
    "services_baristas['Date premier service'] = services_baristas['barista_hash'].map(premier_service)\n",
    "services_baristas['is premier service'] = services_baristas['Date'] == services_baristas['Date premier service']\n",
    "\n",
    "dernier_service = services_baristas.groupby('barista_hash')[['Date']].max()['Date'].to_dict()\n",
    "services_baristas['Date dernier service'] = services_baristas['barista_hash'].map(dernier_service)\n",
    "services_baristas['is dernier service'] = services_baristas['Date'] == services_baristas['Date dernier service']"
   ]
  },
  {
   "cell_type": "code",
   "execution_count": null,
   "id": "378407c2",
   "metadata": {},
   "outputs": [],
   "source": [
    "nb_baristas = services_baristas.groupby(['Mois','nom','telephone'])[['role']].count().rename(columns= {'role': 'nb'})\n",
    "nb_baristas = nb_baristas.groupby('Mois').aggregate(func=['count', 'sum'])\n",
    "nb_baristas.columns = nb_baristas.columns.droplevel(0)\n",
    "nb_baristas = nb_baristas.rename(columns={'count': 'Nb de baristas', 'sum': 'Nb de services réalisés'})\n",
    "nb_baristas['Année'] = nb_baristas.index.year\n",
    "nb_baristas = nb_baristas.reset_index().set_index(['Mois', 'Année']).unstack('Année').fillna(0)"
   ]
  },
  {
   "cell_type": "code",
   "execution_count": null,
   "id": "0cc333b8",
   "metadata": {},
   "outputs": [],
   "source": [
    "fig = px.bar(nb_baristas[['Nb de baristas']].stack('Année').groupby('Année').sum())\n",
    "fig.update_layout(showlegend=False,xaxis_title=None,yaxis_title=None)\n",
    "dt.fig_save_or_show(fig, 'baristas_02_nb_baristas_par_an')"
   ]
  },
  {
   "cell_type": "code",
   "execution_count": null,
   "id": "e9e35d80",
   "metadata": {},
   "outputs": [],
   "source": [
    "fig = px.bar(nb_baristas[['Nb de services réalisés']].stack('Année').groupby('Année').sum())\n",
    "fig.update_layout(showlegend=False,xaxis_title=None,yaxis_title=None)\n",
    "fig.update_layout(separators=', ')\n",
    "fig.update_yaxes(tickformat=\",d\")\n",
    "dt.fig_save_or_show(fig, 'baristas_03_nb_services_realises_par_an')"
   ]
  },
  {
   "cell_type": "code",
   "execution_count": null,
   "id": "c868dc53",
   "metadata": {},
   "outputs": [],
   "source": [
    "fig = px.bar(nb_baristas['Nb de baristas'])\n",
    "fig.update_layout(showlegend=False,xaxis_title=None,yaxis_title=None)\n",
    "dt.fig_save_or_show(fig, 'baristas_04_nb_baristas_par_mois')"
   ]
  },
  {
   "cell_type": "code",
   "execution_count": null,
   "id": "71f5c325",
   "metadata": {},
   "outputs": [],
   "source": [
    "fig = px.bar(nb_baristas['Nb de services réalisés'])\n",
    "fig.update_layout(showlegend=False,xaxis_title=None,yaxis_title=None)\n",
    "dt.fig_save_or_show(fig, 'baristas_05_nb_services_réalisés_par_mois')"
   ]
  },
  {
   "cell_type": "code",
   "execution_count": null,
   "id": "de9677ec",
   "metadata": {},
   "outputs": [],
   "source": [
    "services = services_baristas[services_baristas['role'] == \"REFERENT\"].groupby(['Mois','nom','telephone'])[['role']].count().rename(columns= {'role': 'nb'})\n",
    "services = services.groupby('Mois').aggregate(func=['count', 'sum'])\n",
    "services.columns = services.columns.droplevel(0)\n",
    "services['Année'] = services.index.year\n",
    "\n",
    "services = services.reset_index().set_index(['Mois', 'Année']).unstack('Année').fillna(0)"
   ]
  },
  {
   "cell_type": "code",
   "execution_count": null,
   "id": "822e94e8",
   "metadata": {},
   "outputs": [],
   "source": [
    "fig = px.bar(services['count'])\n",
    "fig.update_layout(showlegend=False,xaxis_title=None,yaxis_title=None)\n",
    "dt.fig_save_or_show(fig, 'baristas_06_nb_referents_par_mois')"
   ]
  },
  {
   "cell_type": "code",
   "execution_count": null,
   "id": "a6d498d7",
   "metadata": {},
   "outputs": [],
   "source": [
    "nb_services = services_baristas[['Mois', 'Date', 'role']].groupby(['Mois', 'Date']).count().rename(columns={'role': 'nb'}).reset_index()[['Mois', 'Date']].groupby('Mois').count()\n",
    "nb_services['Année'] = nb_services.index.year\n",
    "nb_services = nb_services.reset_index().set_index(['Mois', 'Année']).unstack('Année').fillna(0)\n",
    "nb_services.columns = nb_services.columns.droplevel(0)\n",
    "nb_services\n",
    "\n",
    "fig = px.bar(nb_services)\n",
    "fig.update_layout(showlegend=False,xaxis_title=None,yaxis_title=None)\n",
    "dt.fig_save_or_show(fig, 'baristas_07_nb_services_ouverts')"
   ]
  },
  {
   "cell_type": "code",
   "execution_count": null,
   "id": "fe1c4ca1",
   "metadata": {},
   "outputs": [],
   "source": [
    "limit_date_year = datetime.now() + relativedelta(years=-1)\n",
    "services_baristas_year = services_baristas[services_baristas['Mois'] > limit_date_year]\n",
    "baristas_year = services_baristas_year.groupby(['nom', 'barista_hash'])[['role']].count().rename(columns={'role': 'nb'})\n",
    "baristas_year.sort_values(by='nb', ascending=False, inplace=True)\n",
    "baristas_year.rename(columns={'nb': 'Nb de services'}, inplace=True)\n",
    "baristas_year = baristas_year.reset_index().set_index('nom')\n",
    "\n",
    "fig = px.bar(baristas_year['Nb de services'])\n",
    "fig.update_layout(showlegend=False,xaxis_title=None,yaxis_title=None)\n",
    "fig.update_xaxes(showticklabels=False)\n",
    "dt.fig_save_or_show(fig, 'baristas_08_nb_services_par_baristas_12_mois')"
   ]
  },
  {
   "cell_type": "code",
   "execution_count": null,
   "id": "74fc94f1",
   "metadata": {},
   "outputs": [],
   "source": [
    "if dt.is_notebook():\n",
    "    print(baristas_year.head(60))"
   ]
  },
  {
   "cell_type": "code",
   "execution_count": null,
   "id": "d0e36de3",
   "metadata": {},
   "outputs": [],
   "source": [
    "res={\n",
    "    'un_seul_service': len(baristas_year[baristas_year['Nb de services'] < 2].dropna().reset_index()['nom'].unique()),\n",
    "    'plus_de_20_services': len(baristas_year[baristas_year['Nb de services'] > 20].dropna().reset_index()['nom'].unique()),\n",
    "    'plus_de_40_services': len(baristas_year[baristas_year['Nb de services'] > 40].dropna().reset_index()['nom'].unique()),\n",
    "    'plus_de_60_services': len(baristas_year[baristas_year['Nb de services'] > 60].dropna().reset_index()['nom'].unique()),\n",
    "    'nb_baristas': len(baristas_year.dropna().reset_index()['nom'].unique()),\n",
    "    'moyenne_du_nb_de_services': baristas_year['Nb de services'].mean()\n",
    "}\n",
    "baristas_std = baristas_year.reset_index()\n",
    "res['ecart_type_du_nb_de_services'] = baristas_std[baristas_std.index == int(len(baristas_std)/2)].reset_index()['Nb de services'][0]\n",
    "if dt.is_notebook():\n",
    "    print(res)"
   ]
  },
  {
   "cell_type": "code",
   "execution_count": null,
   "id": "0b3c874c",
   "metadata": {},
   "outputs": [],
   "source": [
    "services_baristas_year['has_premier_service'] = services_baristas_year['Date'].isin(services_baristas_year[services_baristas_year['is premier service']]['Date'].to_list())\n",
    "t2nb = baristas_year.set_index('barista_hash')['Nb de services'].to_dict()\n",
    "services_baristas_year['nb services'] = services_baristas_year['barista_hash'].map(t2nb)\n",
    "services_baristas_year['is_unique_service'] = services_baristas_year['nb services'] == 1\n",
    "has_premier_service_year = services_baristas_year[services_baristas_year['has_premier_service']]\n",
    "n2nb1 = has_premier_service_year.groupby('nom')['has_premier_service'].count().to_dict()\n",
    "has_premier_service_year['nb 1er services'] = has_premier_service_year['nom'].map(n2nb1)\n",
    "has_premier_service = has_premier_service_year[has_premier_service_year['Date'].isin(has_premier_service_year[has_premier_service_year['is_unique_service']]['Date'])]\n",
    "has_premier_service = has_premier_service.groupby(['nom', 'role'])['nb 1er services'].aggregate(func=['first', 'count']).rename(columns={'first': 'nb avec 1er service', 'count': 'nb avec uniq service'})\n",
    "has_premier_service['pc'] = has_premier_service['nb avec uniq service'] * 100 / has_premier_service['nb avec 1er service']\n",
    "has_premier_service = has_premier_service[has_premier_service['nb avec uniq service'] != 1]\n",
    "has_premier_service.sort_values(by='pc', ascending=False)"
   ]
  },
  {
   "cell_type": "code",
   "execution_count": null,
   "id": "749c371b",
   "metadata": {},
   "outputs": [],
   "source": []
  }
 ],
 "metadata": {
  "kernelspec": {
   "display_name": "Python 3 (ipykernel)",
   "language": "python",
   "name": "python3"
  },
  "language_info": {
   "codemirror_mode": {
    "name": "ipython",
    "version": 3
   },
   "file_extension": ".py",
   "mimetype": "text/x-python",
   "name": "python",
   "nbconvert_exporter": "python",
   "pygments_lexer": "ipython3",
   "version": "3.11.5"
  }
 },
 "nbformat": 4,
 "nbformat_minor": 5
}
