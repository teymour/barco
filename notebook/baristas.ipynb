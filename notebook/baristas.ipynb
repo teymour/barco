{
 "cells": [
  {
   "cell_type": "code",
   "execution_count": null,
   "id": "40bc8ddf",
   "metadata": {},
   "outputs": [],
   "source": [
    "import pandas as pd\n",
    "import os\n",
    "from datetime import datetime\n",
    "from dateutil.relativedelta import relativedelta \n",
    "import mydashtools as dt\n",
    "import plotly.express as px\n",
    "import hashlib\n",
    "pd.options.plotting.backend = \"plotly\"\n",
    "if dt.is_notebook():\n",
    "    __file__ = \"notebook/\"\n",
    "\n",
    "services_baristas_annule = pd.read_csv(os.path.dirname(os.path.realpath(__file__))+\"/../calendar/baristas.csv\", sep=\";\",decimal=',',low_memory=False, index_col=False)\n",
    "services_baristas_annule['Mois'] = pd.to_datetime(services_baristas_annule['date'].apply(lambda x: x[0:7]+'-01'))\n",
    "services_baristas_annule['Date'] = pd.to_datetime(services_baristas_annule['date'])\n",
    "del services_baristas_annule['date']\n",
    "\n",
    "limit_year = None\n",
    "if os.getenv(\"LIMIT_YEAR\") is not None:\n",
    "    limit_year = os.getenv(\"LIMIT_YEAR\")\n",
    "limit_year = \"2023\"\n",
    "now = datetime.now()\n",
    "if limit_year:\n",
    "    services_baristas_annule = services_baristas_annule[services_baristas_annule['Mois'] <= limit_year+'-12-31']\n",
    "    now = max(services_baristas_annule['Mois'])\n",
    "\n",
    "services_baristas_annule = services_baristas_annule[services_baristas_annule['Date'] <= str(now)]\n",
    "services_baristas_annule['nom'] = services_baristas_annule['nom'].str.title()\n",
    "t2n = services_baristas_annule.groupby('telephone')['nom'].first().to_dict()\n",
    "n2t = services_baristas_annule.groupby('nom')['telephone'].first().to_dict()\n",
    "services_baristas_annule['telephone_nom'] = services_baristas_annule['nom'].map(n2t)\n",
    "services_baristas_annule['telephone'] = services_baristas_annule['telephone_nom'].combine_first(services_baristas_annule['telephone']).fillna('')\n",
    "services_baristas_annule['nom_telephone'] = services_baristas_annule['telephone'].map(t2n)\n",
    "services_baristas_annule['nom'] = services_baristas_annule['nom_telephone'].combine_first(services_baristas_annule['nom'])\n",
    "services_baristas_annule['nom_tel'] = services_baristas_annule['nom'].fillna('') + services_baristas_annule['telephone'].fillna('')\n",
    "services_baristas_annule['barista_hash'] = services_baristas_annule['nom_tel'].apply(lambda x: hashlib.md5(x.encode()).hexdigest())\n",
    "del services_baristas_annule['nom_telephone']\n",
    "del services_baristas_annule['telephone_nom']\n",
    "del services_baristas_annule['nom_tel']"
   ]
  },
  {
   "cell_type": "code",
   "execution_count": null,
   "id": "08b4cee8",
   "metadata": {
    "scrolled": true
   },
   "outputs": [],
   "source": [
    "creneaux_annules = services_baristas_annule[services_baristas_annule['role'] == \"CRENEAU ANNULE\"][['Mois', 'role']].groupby('Mois').count()\n",
    "creneaux_annules['Année'] = creneaux_annules.index.year\n",
    "creneaux_annules = creneaux_annules.reset_index().set_index(['Mois', 'Année']).unstack('Année').fillna(0)\n",
    "creneaux_annules.columns = creneaux_annules.columns.droplevel(0)\n",
    "\n",
    "fig = px.bar(creneaux_annules)\n",
    "fig.update_layout(showlegend=False,xaxis_title=None,yaxis_title=None)\n",
    "dt.fig_save_or_show(fig, 'baristas_01_creneaux_annules', limit_year)"
   ]
  },
  {
   "cell_type": "code",
   "execution_count": null,
   "id": "340d7679",
   "metadata": {},
   "outputs": [],
   "source": [
    "limit_date_year = now + relativedelta(months=-6)\n",
    "creneaux_annules_year = services_baristas_annule[services_baristas_annule['Mois'] > limit_date_year]\n",
    "creneaux_annules_year['Nb services annulés'] = creneaux_annules_year['role'].apply(lambda x : 1 if x == \"CRENEAU ANNULE\" else 0)\n",
    "creneaux_annules_year['Service Semaine Order'] = creneaux_annules_year['Date'].dt.weekday.map(str)+' '+creneaux_annules_year['Date'].dt.day_name(locale='fr_FR.utf8')+' '+creneaux_annules_year['Date'].dt.time.map(str)\n",
    "creneaux_annules_year['Service Semaine'] = creneaux_annules_year['Date'].dt.day_name(locale='fr_FR.utf8')+' '+creneaux_annules_year['Date'].dt.time.map(str)\n",
    "\n",
    "\n",
    "creneaux_annules_semaine = creneaux_annules_year.groupby(['Service Semaine Order', 'Service Semaine'])[['Nb services annulés']].sum().rename({'role': 'Service annulé'})\n",
    "creneaux_annules_semaine = creneaux_annules_semaine.reset_index().set_index('Service Semaine')\n",
    "creneaux_annules_semaine\n",
    "fig = px.bar(creneaux_annules_semaine['Nb services annulés'])\n",
    "fig.update_layout(showlegend=False,xaxis_title=None,yaxis_title=None)\n",
    "dt.fig_save_or_show(fig, 'baristas_11_creneaux_annules_semaine', limit_year)\n"
   ]
  },
  {
   "cell_type": "code",
   "execution_count": null,
   "id": "aad38714",
   "metadata": {},
   "outputs": [],
   "source": [
    "import hashlib\n",
    "\n",
    "services_baristas = services_baristas_annule[services_baristas_annule['role'] != \"CRENEAU ANNULE\"]\n",
    "#services_baristas = services_baristas_annule[services_baristas_annule['role'] != \"RENFORT\"]\n",
    "\n",
    "premier_service = services_baristas.groupby('barista_hash')[['Date']].min()['Date'].to_dict()\n",
    "services_baristas['Date premier service'] = services_baristas['barista_hash'].map(premier_service)\n",
    "services_baristas['is premier service'] = services_baristas['Date'] == services_baristas['Date premier service']\n",
    "\n",
    "dernier_service = services_baristas.groupby('barista_hash')[['Date']].max()['Date'].to_dict()\n",
    "services_baristas['Date dernier service'] = services_baristas['barista_hash'].map(dernier_service)\n",
    "services_baristas['is dernier service'] = services_baristas['Date'] == services_baristas['Date dernier service']"
   ]
  },
  {
   "cell_type": "code",
   "execution_count": null,
   "id": "378407c2",
   "metadata": {},
   "outputs": [],
   "source": [
    "nb_baristas = services_baristas.groupby(['Mois','nom','telephone'])[['role']].count().rename(columns= {'role': 'nb'}).reset_index()\n",
    "nb_baristas['Année'] = nb_baristas['Mois'].apply(lambda x: x.year)\n",
    "\n",
    "nb_baristas_mois = nb_baristas.groupby('Mois').aggregate(func=['count', 'sum'])[['nb']]\n",
    "nb_baristas_mois.columns = nb_baristas_mois.columns.droplevel(0)\n",
    "nb_baristas_mois = nb_baristas_mois[['count', 'sum']]\n",
    "nb_baristas_mois = nb_baristas_mois.rename(columns={'count': 'Nb de baristas', 'sum': 'Nb de services réalisés'})\n",
    "nb_baristas_mois['Année'] = nb_baristas_mois.index.year\n",
    "\n",
    "nb_baristas_ans = nb_baristas.groupby(['Année','nom','telephone'])[['nb']].sum().reset_index().groupby('Année')[['nb']].aggregate(func=['count', 'sum'])\n",
    "nb_baristas_ans.columns = nb_baristas_ans.columns.droplevel(0)\n",
    "nb_baristas_ans = nb_baristas_ans.rename(columns={'count': 'Nb de baristas', 'sum': 'Nb de services réalisés'})"
   ]
  },
  {
   "cell_type": "code",
   "execution_count": null,
   "id": "0cc333b8",
   "metadata": {},
   "outputs": [],
   "source": [
    "fig = px.bar(nb_baristas_ans[['Nb de baristas']])\n",
    "fig.update_layout(showlegend=False,xaxis_title=None,yaxis_title=None)\n",
    "dt.fig_save_or_show(fig, 'baristas_02_nb_baristas_par_an', limit_year)"
   ]
  },
  {
   "cell_type": "code",
   "execution_count": null,
   "id": "e9e35d80",
   "metadata": {},
   "outputs": [],
   "source": [
    "fig = px.bar(nb_baristas_ans[['Nb de services réalisés']])\n",
    "fig.update_layout(showlegend=False,xaxis_title=None,yaxis_title=None)\n",
    "fig.update_layout(separators=', ')\n",
    "fig.update_yaxes(tickformat=\",d\")\n",
    "dt.fig_save_or_show(fig, 'baristas_03_nb_services_realises_par_an', limit_year)"
   ]
  },
  {
   "cell_type": "code",
   "execution_count": null,
   "id": "c868dc53",
   "metadata": {},
   "outputs": [],
   "source": [
    "fig = px.bar(nb_baristas_mois['Nb de baristas'])\n",
    "fig.update_layout(showlegend=False,xaxis_title=None,yaxis_title=None)\n",
    "dt.fig_save_or_show(fig, 'baristas_04_nb_baristas_par_mois', limit_year)"
   ]
  },
  {
   "cell_type": "code",
   "execution_count": null,
   "id": "71f5c325",
   "metadata": {},
   "outputs": [],
   "source": [
    "fig = px.bar(nb_baristas_mois['Nb de services réalisés'])\n",
    "fig.update_layout(showlegend=False,xaxis_title=None,yaxis_title=None)\n",
    "dt.fig_save_or_show(fig, 'baristas_05_nb_services_réalisés_par_mois', limit_year)"
   ]
  },
  {
   "cell_type": "code",
   "execution_count": null,
   "id": "de9677ec",
   "metadata": {},
   "outputs": [],
   "source": [
    "services = services_baristas[services_baristas['role'] == \"REFERENT\"].groupby(['Mois','nom','telephone'])[['role']].count().rename(columns= {'role': 'nb'})\n",
    "services = services.groupby('Mois').aggregate(func=['count', 'sum'])\n",
    "services.columns = services.columns.droplevel(0)\n",
    "services['Année'] = services.index.year\n",
    "\n",
    "services = services.reset_index().set_index(['Mois', 'Année']).unstack('Année').fillna(0)"
   ]
  },
  {
   "cell_type": "code",
   "execution_count": null,
   "id": "822e94e8",
   "metadata": {},
   "outputs": [],
   "source": [
    "fig = px.bar(services['count'])\n",
    "fig.update_layout(showlegend=False,xaxis_title=None,yaxis_title=None)\n",
    "dt.fig_save_or_show(fig, 'baristas_06_nb_referents_par_mois', limit_year)"
   ]
  },
  {
   "cell_type": "code",
   "execution_count": null,
   "id": "a6d498d7",
   "metadata": {},
   "outputs": [],
   "source": [
    "nb_services = services_baristas[['Mois', 'Date', 'role']].groupby(['Mois', 'Date']).count().rename(columns={'role': 'nb'}).reset_index()[['Mois', 'Date']].groupby('Mois').count()\n",
    "nb_services['Année'] = nb_services.index.year\n",
    "nb_services = nb_services.reset_index().set_index(['Mois', 'Année']).unstack('Année').fillna(0)\n",
    "nb_services.columns = nb_services.columns.droplevel(0)\n",
    "\n",
    "fig = px.bar(nb_services)\n",
    "fig.update_layout(showlegend=False,xaxis_title=None,yaxis_title=None)\n",
    "dt.fig_save_or_show(fig, 'baristas_07_nb_services_ouverts', limit_year)"
   ]
  },
  {
   "cell_type": "code",
   "execution_count": null,
   "id": "fe1c4ca1",
   "metadata": {},
   "outputs": [],
   "source": [
    "limit_date_year = now + relativedelta(years=-1)\n",
    "services_baristas_year = services_baristas[services_baristas['Mois'] > limit_date_year]\n",
    "services_baristas_year['is_premier_service_12_mois'] = services_baristas_year['Date premier service'] >= (max(services_baristas_year['Date premier service']) + relativedelta(years=-1)).isoformat()\n",
    "services_baristas_year['is_not_premier_service_12_mois'] = services_baristas_year['Date premier service'] < (max(services_baristas_year['Date premier service']) + relativedelta(years=-1)).isoformat()\n",
    "baristas_year = services_baristas_year.groupby(['nom', 'barista_hash', 'is_not_premier_service_12_mois'])[['role']].count().rename(columns={'role': 'nb'})\n",
    "baristas_year.sort_values(by=['nb', 'is_not_premier_service_12_mois', 'nom'], ascending=False, inplace=True)\n",
    "baristas_year.rename(columns={'nb': 'Nb de services'}, inplace=True)\n",
    "baristas_year = baristas_year.reset_index().set_index('nom')\n",
    "baristas_year['Est là depuis plus d\\'un an'] = baristas_year[baristas_year['is_not_premier_service_12_mois']]['Nb de services']\n",
    "baristas_year['A fait son premier service dans les 12 mois'] = baristas_year[baristas_year['is_not_premier_service_12_mois'] != True]['Nb de services']\n",
    "graph_baristas_year = baristas_year.copy()\n",
    "del graph_baristas_year['is_not_premier_service_12_mois']\n",
    "del graph_baristas_year['barista_hash']\n",
    "del graph_baristas_year['Nb de services']\n",
    "\n",
    "fig = px.bar(graph_baristas_year)\n",
    "fig.update_layout(showlegend=False,xaxis_title=None,yaxis_title=None)\n",
    "fig.update_xaxes(showticklabels=False)\n",
    "dt.fig_save_or_show(fig, 'baristas_08_nb_services_par_baristas_12_mois', limit_year)"
   ]
  },
  {
   "cell_type": "code",
   "execution_count": null,
   "id": "74fc94f1",
   "metadata": {},
   "outputs": [],
   "source": [
    "if dt.is_notebook():\n",
    "    print(baristas_year.head(60))"
   ]
  },
  {
   "cell_type": "code",
   "execution_count": null,
   "id": "d0e36de3",
   "metadata": {},
   "outputs": [],
   "source": [
    "res={\n",
    "    'un_seul_service_premier_service': len(baristas_year[baristas_year['Nb de services'] < 2][baristas_year['is_not_premier_service_12_mois'] != True]),\n",
    "    'un_seul_service': len(baristas_year[baristas_year['Nb de services'] < 2]),\n",
    "    'deux_services': len(baristas_year[baristas_year['Nb de services'] < 3]),\n",
    "    'plus_de_5_services': len(baristas_year[baristas_year['Nb de services'] > 5]),\n",
    "    'plus_de_10_services': len(baristas_year[baristas_year['Nb de services'] > 10]),\n",
    "    'plus_de_20_services': len(baristas_year[baristas_year['Nb de services'] > 20]),\n",
    "    'plus_de_40_services': len(baristas_year[baristas_year['Nb de services'] > 40]),\n",
    "    'plus_de_60_services': len(baristas_year[baristas_year['Nb de services'] > 60]),\n",
    "    'nb_baristas': len(baristas_year),\n",
    "    'moyenne_du_nb_de_services': baristas_year['Nb de services'].mean(),\n",
    "    'nb_plus_de_12_mois': len(baristas_year['Est là depuis plus d\\'un an'].dropna()),\n",
    "    'nb_moins_de_12_mois': len(baristas_year['A fait son premier service dans les 12 mois'].dropna())\n",
    "}\n",
    "baristas_std = baristas_year.reset_index()\n",
    "res['ecart_type_du_nb_de_services'] = baristas_std[baristas_std.index == int(len(baristas_std)/2)].reset_index()['Nb de services'][0]\n",
    "if dt.is_notebook():\n",
    "    print(res)"
   ]
  },
  {
   "cell_type": "code",
   "execution_count": null,
   "id": "0b3c874c",
   "metadata": {},
   "outputs": [],
   "source": [
    "services_baristas_year['has_premier_service'] = services_baristas_year['Date'].isin(services_baristas_year[services_baristas_year['is premier service']]['Date'].to_list())\n",
    "t2nb = baristas_year.set_index('barista_hash')['Nb de services'].to_dict()\n",
    "services_baristas_year['nb services'] = services_baristas_year['barista_hash'].map(t2nb)\n",
    "services_baristas_year['is_unique_service'] = services_baristas_year['nb services'] == 1\n",
    "has_premier_service_year = services_baristas_year[services_baristas_year['has_premier_service']]\n",
    "n2nb1 = has_premier_service_year.groupby('nom')['has_premier_service'].count().to_dict()\n",
    "has_premier_service_year['nb 1er services'] = has_premier_service_year['nom'].map(n2nb1)\n",
    "has_premier_service = has_premier_service_year[has_premier_service_year['Date'].isin(has_premier_service_year[has_premier_service_year['is_unique_service']]['Date'])]\n",
    "has_premier_service = has_premier_service.groupby(['nom', 'role'])['nb 1er services'].aggregate(func=['first', 'count']).rename(columns={'first': 'nb avec 1er service', 'count': 'nb avec uniq service'})\n",
    "has_premier_service['pc'] = has_premier_service['nb avec uniq service'] * 100 / has_premier_service['nb avec 1er service']\n",
    "has_premier_service = has_premier_service[has_premier_service['nb avec uniq service'] != 1]\n",
    "has_premier_service.sort_values(by='pc', ascending=False)"
   ]
  },
  {
   "cell_type": "code",
   "execution_count": null,
   "id": "749c371b",
   "metadata": {},
   "outputs": [],
   "source": []
  }
 ],
 "metadata": {
  "kernelspec": {
   "display_name": "Python 3 (ipykernel)",
   "language": "python",
   "name": "python3"
  },
  "language_info": {
   "codemirror_mode": {
    "name": "ipython",
    "version": 3
   },
   "file_extension": ".py",
   "mimetype": "text/x-python",
   "name": "python",
   "nbconvert_exporter": "python",
   "pygments_lexer": "ipython3",
   "version": "3.11.5"
  }
 },
 "nbformat": 4,
 "nbformat_minor": 5
}
