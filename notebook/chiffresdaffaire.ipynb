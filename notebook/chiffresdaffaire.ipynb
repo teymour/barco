{
 "cells": [
  {
   "cell_type": "code",
   "execution_count": null,
   "id": "4bfd5e91",
   "metadata": {},
   "outputs": [],
   "source": [
    "import pandas as pd\n",
    "from datetime import datetime\n",
    "import mydashtools as dt\n",
    "import plotly.express as px\n",
    "pd.options.plotting.backend = \"plotly\"\n",
    "\n",
    "zelty = pd.read_csv(\"../zelty/zelty.csv\", sep=\";\",decimal=',',low_memory=False, index_col=False)\n",
    "zelty['date'] = pd.to_datetime(zelty['date'])\n",
    "if dt.is_notebook():\n",
    "    print(zelty.head())"
   ]
  },
  {
   "cell_type": "code",
   "execution_count": null,
   "id": "3e170f37",
   "metadata": {},
   "outputs": [],
   "source": [
    "chiffredaffaire = zelty.groupby(['date', 'category'])[['price']].sum().unstack('category')"
   ]
  },
  {
   "cell_type": "code",
   "execution_count": null,
   "id": "389bcf3e",
   "metadata": {},
   "outputs": [],
   "source": [
    "chiffredaffaire_par_an = chiffredaffaire.resample('YS').sum().fillna(0)\n",
    "chiffredaffaire_par_an['year'] = chiffredaffaire_par_an.index.year\n",
    "chiffredaffaire_par_an.reset_index(inplace=True)\n",
    "chiffredaffaire_par_an.set_index('year', inplace=True)\n",
    "# = chiffredaffaire.columns.droplevel(0)\n",
    "chiffredaffaire_par_an.columns = chiffredaffaire_par_an.columns.droplevel(0)\n",
    "del chiffredaffaire_par_an['']\n",
    "\n",
    "fig = px.bar(chiffredaffaire_par_an)\n",
    "dt.fig_save_or_show(fig, 'chiffresdaffaire_01_ca_par_categories_et_an')"
   ]
  },
  {
   "cell_type": "code",
   "execution_count": null,
   "id": "a103e628",
   "metadata": {},
   "outputs": [],
   "source": [
    "chiffredaffaire_12_mois = chiffredaffaire.resample('MS').sum()\n",
    "chiffredaffaire_12_mois = chiffredaffaire_12_mois[chiffredaffaire_12_mois.index > str(datetime.now().replace(year=datetime.now().year - 1))]\n",
    "chiffredaffaire_12_mois.columns = chiffredaffaire_12_mois.columns.droplevel(0)\n",
    "\n",
    "fig = px.bar(chiffredaffaire_12_mois)\n",
    "dt.fig_save_or_show(fig, 'chiffresdaffaire_02_ca_par_categories_12_mois')"
   ]
  },
  {
   "cell_type": "code",
   "execution_count": null,
   "id": "9f6fb28a",
   "metadata": {},
   "outputs": [],
   "source": [
    "chiffredaffaire_total_by_year = chiffredaffaire.stack('category').reset_index().groupby('date')[['price']].sum().resample('Y').sum()\n",
    "chiffredaffaire_total_by_year.index = chiffredaffaire_total_by_year.index.year\n",
    "\n",
    "chiffredaffaire_a_date = chiffredaffaire.stack('category').reset_index().groupby('date')[['price']].sum()\n",
    "chiffredaffaire_a_date['a_date'] = chiffredaffaire_a_date.index.month*100+chiffredaffaire_a_date.index.day\n",
    "chiffredaffaire_a_date = chiffredaffaire_a_date[chiffredaffaire_a_date['a_date'] < datetime.now().month*100+datetime.now().day]\n",
    "del chiffredaffaire_a_date['a_date']\n",
    "chiffredaffaire_a_date = chiffredaffaire_a_date.resample('Y').sum()\n",
    "chiffredaffaire_a_date.index = chiffredaffaire_a_date.index.year\n",
    "chiffredaffaire_a_date\n",
    "libelle_a_date = \"à date du %02d/%02d\" % (datetime.now().day, datetime.now().month)\n",
    "chiffredaffaire_total_by_year[libelle_a_date] = chiffredaffaire_a_date['price']\n",
    "chiffredaffaire_total_by_year.fillna(0, inplace=True)\n",
    "chiffredaffaire_total_by_year['toute l\\'année'] = chiffredaffaire_total_by_year['price'] - chiffredaffaire_total_by_year[libelle_a_date]\n",
    "del chiffredaffaire_total_by_year['price']\n",
    "\n",
    "fig = px.bar(chiffredaffaire_total_by_year)\n",
    "dt.fig_save_or_show(fig, 'chiffresdaffaire_03_ca_total_par_an')"
   ]
  },
  {
   "cell_type": "code",
   "execution_count": null,
   "id": "7dee837b",
   "metadata": {},
   "outputs": [],
   "source": [
    "limit_date = datetime.now().replace(year=datetime.now().year - 1)\n",
    "chiffredaffaire_year = chiffredaffaire[chiffredaffaire.index.to_period(\"M\") >= str(limit_date.year)+'-'+str(limit_date.month)]\n",
    "chiffredaffaire_year.columns = chiffredaffaire_year.columns.droplevel(0)\n",
    "chiffredaffaire_year = chiffredaffaire_year.groupby('date').sum()\n",
    "chiffredaffaire_year['total'] = pd.DataFrame(chiffredaffaire_year.stack('category'), columns=['total']).groupby('date').sum()\n",
    "chiffredaffaire_top_year = chiffredaffaire_year.sort_values(by='total', ascending=False)\n",
    "\n",
    "if dt.is_notebook():\n",
    "    print(chiffredaffaire_top_year[['total']].head(20))\n"
   ]
  },
  {
   "cell_type": "code",
   "execution_count": null,
   "id": "134c4b65",
   "metadata": {},
   "outputs": [],
   "source": [
    "fig = px.bar(chiffredaffaire_year['total'])\n",
    "dt.fig_save_or_show(fig, 'chiffresdaffaire_04_ca_quotidien_12_mois')"
   ]
  },
  {
   "cell_type": "code",
   "execution_count": null,
   "id": "a342f927",
   "metadata": {},
   "outputs": [],
   "source": [
    "del chiffredaffaire_top_year['total']\n",
    "chiffredaffaire_top_year.index = chiffredaffaire_top_year.index.strftime('%d/%m/%Y')\n",
    "\n",
    "fig = px.bar(chiffredaffaire_top_year.head(50))\n",
    "dt.fig_save_or_show(fig, 'chiffresdaffaire_05_ca_quotidien_top50_12_mois')"
   ]
  },
  {
   "cell_type": "code",
   "execution_count": null,
   "id": "8c53ce99",
   "metadata": {},
   "outputs": [],
   "source": [
    "marges = {2017:0.46,\n",
    "          2018:0.4795,\n",
    "          2019:0.5012,\n",
    "          2020:0.3679,\n",
    "          2021:0.5078,\n",
    "          2022:0.3363,\n",
    "          2023:0.45}\n"
   ]
  },
  {
   "cell_type": "code",
   "execution_count": null,
   "id": "cc246770",
   "metadata": {},
   "outputs": [],
   "source": [
    "charges = {2017:50353,\n",
    "           2018:50353,\n",
    "           2019:50786,\n",
    "           2020:45973-33171,\n",
    "           2021:30298-40000,\n",
    "           2022:45886,\n",
    "           2023:45886\n",
    "          }\n"
   ]
  },
  {
   "cell_type": "code",
   "execution_count": null,
   "id": "5496afd9",
   "metadata": {},
   "outputs": [],
   "source": [
    "benefices = chiffredaffaire.stack('category')[['price']].groupby('date').sum().resample('MS').sum()\n",
    "benefices['year'] = benefices.index.year\n",
    "benefices['marge'] = benefices['year'].map(marges)\n",
    "benefices['charges_fixes'] = benefices['year'].map(charges)/12\n",
    "benefices = benefices.groupby(['date','year']).sum()\n",
    "benefices['taux_ht'] = 0.8333\n",
    "benefices['total'] = benefices['price'] * benefices['marge'] * benefices['taux_ht'] - benefices['charges_fixes']\n",
    "del benefices['price']\n",
    "del benefices['marge']\n",
    "del benefices['charges_fixes']\n",
    "del benefices['taux_ht']\n",
    "benefices = benefices.unstack('year').fillna(0)\n",
    "benefices.columns = benefices.columns.droplevel(0)\n",
    "\n",
    "fig = px.bar(benefices)\n",
    "dt.fig_save_or_show(fig, 'chiffresdaffaire_06_benefice')"
   ]
  },
  {
   "cell_type": "code",
   "execution_count": null,
   "id": "d9599e02",
   "metadata": {},
   "outputs": [],
   "source": [
    "if dt.is_notebook():\n",
    "    print(benefices.sum())"
   ]
  },
  {
   "cell_type": "code",
   "execution_count": null,
   "id": "761a11fa",
   "metadata": {},
   "outputs": [],
   "source": []
  }
 ],
 "metadata": {
  "kernelspec": {
   "display_name": "Python 3 (ipykernel)",
   "language": "python",
   "name": "python3"
  },
  "language_info": {
   "codemirror_mode": {
    "name": "ipython",
    "version": 3
   },
   "file_extension": ".py",
   "mimetype": "text/x-python",
   "name": "python",
   "nbconvert_exporter": "python",
   "pygments_lexer": "ipython3",
   "version": "3.11.4"
  }
 },
 "nbformat": 4,
 "nbformat_minor": 5
}
